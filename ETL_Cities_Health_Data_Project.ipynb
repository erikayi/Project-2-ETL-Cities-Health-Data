{
 "cells": [
  {
   "cell_type": "code",
   "execution_count": 1,
   "metadata": {},
   "outputs": [],
   "source": [
    "import pandas as pd\n",
    "from sqlalchemy import create_engine"
   ]
  },
  {
   "cell_type": "markdown",
   "metadata": {},
   "source": [
    "### Store .csv files into dataframe"
   ]
  },
  {
   "cell_type": "code",
   "execution_count": 2,
   "metadata": {},
   "outputs": [
    {
     "data": {
      "text/html": [
       "<div>\n",
       "<style scoped>\n",
       "    .dataframe tbody tr th:only-of-type {\n",
       "        vertical-align: middle;\n",
       "    }\n",
       "\n",
       "    .dataframe tbody tr th {\n",
       "        vertical-align: top;\n",
       "    }\n",
       "\n",
       "    .dataframe thead th {\n",
       "        text-align: right;\n",
       "    }\n",
       "</style>\n",
       "<table border=\"1\" class=\"dataframe\">\n",
       "  <thead>\n",
       "    <tr style=\"text-align: right;\">\n",
       "      <th></th>\n",
       "      <th>Indicator Category</th>\n",
       "      <th>Indicator</th>\n",
       "      <th>Year</th>\n",
       "      <th>Gender</th>\n",
       "      <th>Race/ Ethnicity</th>\n",
       "      <th>Value</th>\n",
       "      <th>Place</th>\n",
       "      <th>BCHC Requested Methodology</th>\n",
       "      <th>Source</th>\n",
       "      <th>Methods</th>\n",
       "      <th>Notes</th>\n",
       "    </tr>\n",
       "  </thead>\n",
       "  <tbody>\n",
       "    <tr>\n",
       "      <th>0</th>\n",
       "      <td>HIV/AIDS</td>\n",
       "      <td>AIDS Diagnoses Rate (Per 100,000 people)</td>\n",
       "      <td>2013</td>\n",
       "      <td>Both</td>\n",
       "      <td>All</td>\n",
       "      <td>30.4</td>\n",
       "      <td>Atlanta (Fulton County), GA</td>\n",
       "      <td>AIDS cases diagnosed in 2012, 2013, 2014 (as a...</td>\n",
       "      <td>Diagnoses numbers were obtained from the Georg...</td>\n",
       "      <td>NaN</td>\n",
       "      <td>NaN</td>\n",
       "    </tr>\n",
       "    <tr>\n",
       "      <th>1</th>\n",
       "      <td>HIV/AIDS</td>\n",
       "      <td>AIDS Diagnoses Rate (Per 100,000 people)</td>\n",
       "      <td>2012</td>\n",
       "      <td>Both</td>\n",
       "      <td>All</td>\n",
       "      <td>39.6</td>\n",
       "      <td>Atlanta (Fulton County), GA</td>\n",
       "      <td>AIDS cases diagnosed in 2012, 2013, 2014 (as a...</td>\n",
       "      <td>Diagnoses numbers were obtained from the Georg...</td>\n",
       "      <td>NaN</td>\n",
       "      <td>NaN</td>\n",
       "    </tr>\n",
       "    <tr>\n",
       "      <th>2</th>\n",
       "      <td>HIV/AIDS</td>\n",
       "      <td>AIDS Diagnoses Rate (Per 100,000 people)</td>\n",
       "      <td>2011</td>\n",
       "      <td>Both</td>\n",
       "      <td>All</td>\n",
       "      <td>41.7</td>\n",
       "      <td>Atlanta (Fulton County), GA</td>\n",
       "      <td>AIDS cases diagnosed in 2012, 2013, 2014 (as a...</td>\n",
       "      <td>Diagnoses numbers were obtained from the Georg...</td>\n",
       "      <td>NaN</td>\n",
       "      <td>NaN</td>\n",
       "    </tr>\n",
       "    <tr>\n",
       "      <th>3</th>\n",
       "      <td>Cancer</td>\n",
       "      <td>All Types of Cancer Mortality Rate (Age-Adjust...</td>\n",
       "      <td>2013</td>\n",
       "      <td>Male</td>\n",
       "      <td>All</td>\n",
       "      <td>195.8</td>\n",
       "      <td>Atlanta (Fulton County), GA</td>\n",
       "      <td>2012, 2013, 2014; per 100,000 population using...</td>\n",
       "      <td>National Center for Health Statistics (NCHS), CDC</td>\n",
       "      <td>NaN</td>\n",
       "      <td>NaN</td>\n",
       "    </tr>\n",
       "    <tr>\n",
       "      <th>4</th>\n",
       "      <td>Cancer</td>\n",
       "      <td>All Types of Cancer Mortality Rate (Age-Adjust...</td>\n",
       "      <td>2013</td>\n",
       "      <td>Female</td>\n",
       "      <td>All</td>\n",
       "      <td>135.5</td>\n",
       "      <td>Atlanta (Fulton County), GA</td>\n",
       "      <td>2012, 2013, 2014; per 100,000 population using...</td>\n",
       "      <td>National Center for Health Statistics (NCHS), CDC</td>\n",
       "      <td>NaN</td>\n",
       "      <td>NaN</td>\n",
       "    </tr>\n",
       "  </tbody>\n",
       "</table>\n",
       "</div>"
      ],
      "text/plain": [
       "  Indicator Category                                          Indicator  Year  \\\n",
       "0           HIV/AIDS           AIDS Diagnoses Rate (Per 100,000 people)  2013   \n",
       "1           HIV/AIDS           AIDS Diagnoses Rate (Per 100,000 people)  2012   \n",
       "2           HIV/AIDS           AIDS Diagnoses Rate (Per 100,000 people)  2011   \n",
       "3             Cancer  All Types of Cancer Mortality Rate (Age-Adjust...  2013   \n",
       "4             Cancer  All Types of Cancer Mortality Rate (Age-Adjust...  2013   \n",
       "\n",
       "   Gender Race/ Ethnicity  Value                        Place  \\\n",
       "0    Both             All   30.4  Atlanta (Fulton County), GA   \n",
       "1    Both             All   39.6  Atlanta (Fulton County), GA   \n",
       "2    Both             All   41.7  Atlanta (Fulton County), GA   \n",
       "3    Male             All  195.8  Atlanta (Fulton County), GA   \n",
       "4  Female             All  135.5  Atlanta (Fulton County), GA   \n",
       "\n",
       "                          BCHC Requested Methodology  \\\n",
       "0  AIDS cases diagnosed in 2012, 2013, 2014 (as a...   \n",
       "1  AIDS cases diagnosed in 2012, 2013, 2014 (as a...   \n",
       "2  AIDS cases diagnosed in 2012, 2013, 2014 (as a...   \n",
       "3  2012, 2013, 2014; per 100,000 population using...   \n",
       "4  2012, 2013, 2014; per 100,000 population using...   \n",
       "\n",
       "                                              Source Methods Notes  \n",
       "0  Diagnoses numbers were obtained from the Georg...     NaN   NaN  \n",
       "1  Diagnoses numbers were obtained from the Georg...     NaN   NaN  \n",
       "2  Diagnoses numbers were obtained from the Georg...     NaN   NaN  \n",
       "3  National Center for Health Statistics (NCHS), CDC     NaN   NaN  \n",
       "4  National Center for Health Statistics (NCHS), CDC     NaN   NaN  "
      ]
     },
     "execution_count": 2,
     "metadata": {},
     "output_type": "execute_result"
    }
   ],
   "source": [
    "big_cities_csv_file = \"data/Big_Cities_Health_Data_Inventory.csv\"\n",
    "big_cities_health_df = pd.read_csv(big_cities_csv_file)\n",
    "big_cities_health_df.head()"
   ]
  },
  {
   "cell_type": "code",
   "execution_count": 3,
   "metadata": {},
   "outputs": [
    {
     "data": {
      "text/html": [
       "<div>\n",
       "<style scoped>\n",
       "    .dataframe tbody tr th:only-of-type {\n",
       "        vertical-align: middle;\n",
       "    }\n",
       "\n",
       "    .dataframe tbody tr th {\n",
       "        vertical-align: top;\n",
       "    }\n",
       "\n",
       "    .dataframe thead th {\n",
       "        text-align: right;\n",
       "    }\n",
       "</style>\n",
       "<table border=\"1\" class=\"dataframe\">\n",
       "  <thead>\n",
       "    <tr style=\"text-align: right;\">\n",
       "      <th></th>\n",
       "      <th>Location</th>\n",
       "      <th>State/Local Government</th>\n",
       "      <th>Non-Profit</th>\n",
       "      <th>For-Profit</th>\n",
       "      <th>Total</th>\n",
       "    </tr>\n",
       "  </thead>\n",
       "  <tbody>\n",
       "    <tr>\n",
       "      <th>0</th>\n",
       "      <td>United States</td>\n",
       "      <td>0.4</td>\n",
       "      <td>1.8</td>\n",
       "      <td>0.4</td>\n",
       "      <td>2.7</td>\n",
       "    </tr>\n",
       "    <tr>\n",
       "      <th>1</th>\n",
       "      <td>Alabama</td>\n",
       "      <td>1.5</td>\n",
       "      <td>0.9</td>\n",
       "      <td>0.9</td>\n",
       "      <td>3.3</td>\n",
       "    </tr>\n",
       "    <tr>\n",
       "      <th>2</th>\n",
       "      <td>Alaska</td>\n",
       "      <td>0.3</td>\n",
       "      <td>1.6</td>\n",
       "      <td>0.3</td>\n",
       "      <td>2.3</td>\n",
       "    </tr>\n",
       "    <tr>\n",
       "      <th>3</th>\n",
       "      <td>Arizona</td>\n",
       "      <td>0.1</td>\n",
       "      <td>1.5</td>\n",
       "      <td>0.4</td>\n",
       "      <td>2.0</td>\n",
       "    </tr>\n",
       "    <tr>\n",
       "      <th>4</th>\n",
       "      <td>Arkansas</td>\n",
       "      <td>0.3</td>\n",
       "      <td>2.3</td>\n",
       "      <td>0.7</td>\n",
       "      <td>3.4</td>\n",
       "    </tr>\n",
       "  </tbody>\n",
       "</table>\n",
       "</div>"
      ],
      "text/plain": [
       "        Location  State/Local Government  Non-Profit  For-Profit  Total\n",
       "0  United States                     0.4         1.8         0.4    2.7\n",
       "1        Alabama                     1.5         0.9         0.9    3.3\n",
       "2         Alaska                     0.3         1.6         0.3    2.3\n",
       "3        Arizona                     0.1         1.5         0.4    2.0\n",
       "4       Arkansas                     0.3         2.3         0.7    3.4"
      ]
     },
     "execution_count": 3,
     "metadata": {},
     "output_type": "execute_result"
    }
   ],
   "source": [
    "hospital_beds_ownership_csv_file = \"data/Hospital_Beds_per_1000_pop_by_Ownership_type.csv\"\n",
    "hospital_beds_ownership_df = pd.read_csv(hospital_beds_ownership_csv_file)\n",
    "hospital_beds_ownership_df.head()\n",
    "\n",
    "# Since this data is small, manually cleaned up the tables for titles, timeframe:2008, and notes \n",
    "# in a separate csv file called sources."
   ]
  },
  {
   "cell_type": "markdown",
   "metadata": {},
   "source": [
    "### Clean the data sources"
   ]
  },
  {
   "cell_type": "code",
   "execution_count": null,
   "metadata": {},
   "outputs": [],
   "source": []
  },
  {
   "cell_type": "markdown",
   "metadata": {},
   "source": [
    "### Loading the data "
   ]
  },
  {
   "cell_type": "code",
   "execution_count": null,
   "metadata": {},
   "outputs": [],
   "source": []
  },
  {
   "cell_type": "markdown",
   "metadata": {},
   "source": [
    "### Merging the data together"
   ]
  },
  {
   "cell_type": "code",
   "execution_count": null,
   "metadata": {},
   "outputs": [],
   "source": []
  },
  {
   "cell_type": "markdown",
   "metadata": {},
   "source": [
    "### Check the data if it's correctly merged together"
   ]
  },
  {
   "cell_type": "code",
   "execution_count": null,
   "metadata": {},
   "outputs": [],
   "source": []
  }
 ],
 "metadata": {
  "kernelspec": {
   "display_name": "Python 3",
   "language": "python",
   "name": "python3"
  },
  "language_info": {
   "codemirror_mode": {
    "name": "ipython",
    "version": 3
   },
   "file_extension": ".py",
   "mimetype": "text/x-python",
   "name": "python",
   "nbconvert_exporter": "python",
   "pygments_lexer": "ipython3",
   "version": "3.7.6"
  }
 },
 "nbformat": 4,
 "nbformat_minor": 4
}
